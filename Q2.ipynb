{
 "cells": [
  {
   "cell_type": "code",
   "execution_count": null,
   "id": "tribal-voice",
   "metadata": {},
   "outputs": [],
   "source": [
    "import pandas as pd\n",
    "import numpy as np\n",
    "import seaborn as sns\n",
    "import matplotlib.pyplot as plt\n",
    "import math"
   ]
  },
  {
   "cell_type": "code",
   "execution_count": null,
   "id": "thrown-canon",
   "metadata": {},
   "outputs": [],
   "source": [
    "data = pd.read_csv('FlightDelays.csv')\n",
    "data.head()"
   ]
  },
  {
   "cell_type": "code",
   "execution_count": null,
   "id": "patent-motivation",
   "metadata": {},
   "outputs": [],
   "source": [
    "data.tail()\n",
    "final = data"
   ]
  },
  {
   "cell_type": "code",
   "execution_count": null,
   "id": "significant-american",
   "metadata": {},
   "outputs": [],
   "source": [
    "final['Flight Status'].replace(to_replace =\"ontime\", value = 1, inplace = True)\n",
    "final['Flight Status'].replace(to_replace =\"delayed\", value = 0, inplace = True)\n",
    "final.head()"
   ]
  },
  {
   "cell_type": "code",
   "execution_count": null,
   "id": "proved-greene",
   "metadata": {},
   "outputs": [],
   "source": [
    "CARRIER = pd.get_dummies(final['CARRIER'])\n",
    "CARRIER.head()"
   ]
  },
  {
   "cell_type": "code",
   "execution_count": null,
   "id": "tribal-denial",
   "metadata": {},
   "outputs": [],
   "source": [
    "DISTANCE = pd.get_dummies(final['DISTANCE'])\n",
    "DISTANCE.head()"
   ]
  },
  {
   "cell_type": "code",
   "execution_count": null,
   "id": "chubby-gabriel",
   "metadata": {},
   "outputs": [],
   "source": [
    "DEST = pd.get_dummies(final['DEST'])\n",
    "DEST.head()"
   ]
  },
  {
   "cell_type": "code",
   "execution_count": null,
   "id": "accompanied-barrel",
   "metadata": {},
   "outputs": [],
   "source": [
    "ORIGIN = pd.get_dummies(final['ORIGIN'])\n",
    "ORIGIN.head()"
   ]
  },
  {
   "cell_type": "code",
   "execution_count": null,
   "id": "noticed-burning",
   "metadata": {},
   "outputs": [],
   "source": [
    "DAY_WEEK = pd.get_dummies(final['DAY_WEEK'])\n",
    "DAY_WEEK.head()"
   ]
  },
  {
   "cell_type": "code",
   "execution_count": null,
   "id": "consolidated-generation",
   "metadata": {},
   "outputs": [],
   "source": [
    "Weather = pd.get_dummies(final['Weather'], prefix='col')\n",
    "Weather.head()"
   ]
  },
  {
   "cell_type": "code",
   "execution_count": null,
   "id": "mediterranean-alberta",
   "metadata": {},
   "outputs": [],
   "source": [
    "TAIL_NUM = pd.get_dummies(final['TAIL_NUM'], prefix='TAIL_NUM')\n",
    "TAIL_NUM.head()"
   ]
  },
  {
   "cell_type": "code",
   "execution_count": null,
   "id": "spanish-inflation",
   "metadata": {},
   "outputs": [],
   "source": [
    "final1 = pd.concat([final, Weather, DAY_WEEK, ORIGIN, DEST, DISTANCE, CARRIER, TAIL_NUM], axis=1)\n",
    "final1.head()"
   ]
  },
  {
   "cell_type": "code",
   "execution_count": null,
   "id": "removable-tattoo",
   "metadata": {},
   "outputs": [],
   "source": [
    "final1.drop(['Weather', 'DAY_WEEK', 'ORIGIN', 'DEST', 'DISTANCE', 'CARRIER', 'TAIL_NUM'], axis=1, inplace=True)\n",
    "final1.head()"
   ]
  },
  {
   "cell_type": "code",
   "execution_count": null,
   "id": "faced-thesaurus",
   "metadata": {},
   "outputs": [],
   "source": [
    "final1.drop(['CRS_DEP_TIME', 'DEP_TIME', 'FL_DATE'],axis=1, inplace=True)\n",
    "final1.tail()"
   ]
  },
  {
   "cell_type": "code",
   "execution_count": null,
   "id": "proper-midwest",
   "metadata": {},
   "outputs": [],
   "source": [
    "final1.head()"
   ]
  },
  {
   "cell_type": "markdown",
   "id": "virgin-vertical",
   "metadata": {},
   "source": [
    "Train data"
   ]
  },
  {
   "cell_type": "code",
   "execution_count": null,
   "id": "assigned-fleece",
   "metadata": {},
   "outputs": [],
   "source": [
    "X= final1.drop(\"Flight Status\", axis=1)\n",
    "y= final1[\"Flight Status\"]"
   ]
  },
  {
   "cell_type": "code",
   "execution_count": null,
   "id": "friendly-architecture",
   "metadata": {},
   "outputs": [],
   "source": [
    "from sklearn.model_selection import train_test_split"
   ]
  },
  {
   "cell_type": "code",
   "execution_count": null,
   "id": "noble-jerusalem",
   "metadata": {},
   "outputs": [],
   "source": [
    "X_train, X_test, y_train, y_test = train_test_split( X, y, test_size=0.6, random_state=1)"
   ]
  },
  {
   "cell_type": "code",
   "execution_count": null,
   "id": "sixth-crime",
   "metadata": {},
   "outputs": [],
   "source": [
    "from sklearn.linear_model import LogisticRegression"
   ]
  },
  {
   "cell_type": "code",
   "execution_count": null,
   "id": "second-reggae",
   "metadata": {},
   "outputs": [],
   "source": [
    "logmodel = LogisticRegression()\n",
    "logmodel.fit(X_train, y_train)"
   ]
  },
  {
   "cell_type": "code",
   "execution_count": null,
   "id": "stopped-thing",
   "metadata": {},
   "outputs": [],
   "source": [
    "predictions = logmodel.predict(X_test)"
   ]
  },
  {
   "cell_type": "code",
   "execution_count": null,
   "id": "inner-anime",
   "metadata": {},
   "outputs": [],
   "source": [
    "from sklearn.metrics import classification_report\n",
    "classification_report(y_test, predictions)"
   ]
  },
  {
   "cell_type": "code",
   "execution_count": null,
   "id": "approximate-tobacco",
   "metadata": {},
   "outputs": [],
   "source": [
    "from sklearn.metrics import confusion_matrix\n",
    "confusion_matrix(y_test, predictions)"
   ]
  },
  {
   "cell_type": "code",
   "execution_count": null,
   "id": "norman-receptor",
   "metadata": {},
   "outputs": [],
   "source": [
    "from sklearn.metrics import accuracy_score\n",
    "accuracy_score(y_test, predictions)"
   ]
  },
  {
   "cell_type": "code",
   "execution_count": null,
   "id": "manufactured-credit",
   "metadata": {
    "scrolled": true
   },
   "outputs": [],
   "source": [
    "# print(data)"
   ]
  },
  {
   "cell_type": "code",
   "execution_count": null,
   "id": "dynamic-blind",
   "metadata": {},
   "outputs": [],
   "source": [
    "# final.head()"
   ]
  },
  {
   "cell_type": "code",
   "execution_count": null,
   "id": "naughty-pastor",
   "metadata": {},
   "outputs": [],
   "source": [
    "# data.head()"
   ]
  },
  {
   "cell_type": "code",
   "execution_count": null,
   "id": "brilliant-still",
   "metadata": {},
   "outputs": [],
   "source": [
    "# import datetime\n",
    "\n",
    "# def format_heure(chaine):\n",
    "#     if pd.isnull(chaine):\n",
    "#         return np.nan\n",
    "#     else:\n",
    "#         if chaine == 2400: chaine = 0\n",
    "#         chaine = \"{0:04d}\".format(int(chaine))\n",
    "#         heure = datetime.time(int(chaine[0:2]), int(chaine[2:4]))\n",
    "#         return heure\n",
    "\n",
    "# s1 = format_heure(1445)\n",
    "# s2 = format_heure(1451)\n",
    "# c = datetime.datetime.strptime(str(s2), '%H:%M:%S') - datetime.datetime.strptime(str(s1), '%H:%M:%S')\n",
    "# secs = c.total_seconds()\n",
    "# mins = secs/60\n",
    "# print(mins)"
   ]
  },
  {
   "cell_type": "code",
   "execution_count": null,
   "id": "still-conjunction",
   "metadata": {},
   "outputs": [],
   "source": []
  },
  {
   "cell_type": "code",
   "execution_count": null,
   "id": "french-nursing",
   "metadata": {},
   "outputs": [],
   "source": []
  }
 ],
 "metadata": {
  "kernelspec": {
   "display_name": "Python 3",
   "language": "python",
   "name": "python3"
  },
  "language_info": {
   "codemirror_mode": {
    "name": "ipython",
    "version": 3
   },
   "file_extension": ".py",
   "mimetype": "text/x-python",
   "name": "python",
   "nbconvert_exporter": "python",
   "pygments_lexer": "ipython3",
   "version": "3.9.1"
  }
 },
 "nbformat": 4,
 "nbformat_minor": 5
}
